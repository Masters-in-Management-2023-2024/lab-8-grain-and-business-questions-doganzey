{
  "cells": [
    {
      "cell_type": "markdown",
      "metadata": {
        "id": "wpil6X7ruh4m"
      },
      "source": [
        "# Diamond Company Analytics Challenge\n",
        "\n",
        "**Time:** 35 minutes\n",
        "\n",
        "**Scenario:** You are the new data analyst at a prestigious diamond company. The CEO has called an urgent meeting and needs answers to critical business questions about the inventory.\n",
        "\n",
        "**Your Mission:** Analyze the diamond inventory data and provide insights to guide strategic decisions."
      ]
    },
    {
      "cell_type": "code",
      "execution_count": 1,
      "metadata": {
        "colab": {
          "base_uri": "https://localhost:8080/"
        },
        "id": "h_ACso-Buh4o",
        "outputId": "eff64553-8368-496d-f010-a0507813dffe"
      },
      "outputs": [
        {
          "output_type": "stream",
          "name": "stdout",
          "text": [
            "Loading diamonds dataset...\n",
            "Dataset loaded successfully!\n"
          ]
        }
      ],
      "source": [
        "import polars as pl\n",
        "\n",
        "# Load the diamonds dataset\n",
        "print(\"Loading diamonds dataset...\")\n",
        "df = pl.read_csv('https://raw.githubusercontent.com/pycaret/pycaret/master/datasets/diamond.csv')\n",
        "print(\"Dataset loaded successfully!\")"
      ]
    },
    {
      "cell_type": "markdown",
      "metadata": {
        "id": "KXSnwrzZuh4q"
      },
      "source": [
        "## Section 1: Initial Inventory Assessment (5 minutes)\n",
        "\n",
        "The CEO walks in: \"Before we dive into specifics, I need to understand what we're working with. Give me the basics about our inventory database.\""
      ]
    },
    {
      "cell_type": "markdown",
      "metadata": {
        "id": "qt4q-gr1uh4q"
      },
      "source": [
        "### Question 1: \"How extensive is our inventory database?\"\n",
        "\n",
        "The CEO needs to know the scale of data you're analyzing."
      ]
    },
    {
      "cell_type": "code",
      "execution_count": 29,
      "metadata": {
        "colab": {
          "base_uri": "https://localhost:8080/"
        },
        "id": "DpE7coZ1uh4q",
        "outputId": "771feb78-b10f-4d36-e74d-658ffd1f717d"
      },
      "outputs": [
        {
          "output_type": "stream",
          "name": "stdout",
          "text": [
            "The shape of the dataset is (6000, 8).\n"
          ]
        }
      ],
      "source": [
        "# Your code here:\n",
        "print(f\"The shape of the dataset is {df.shape}.\")"
      ]
    },
    {
      "cell_type": "markdown",
      "metadata": {
        "id": "IDh3gX7huh4r"
      },
      "source": [
        "### Question 2: \"What information do we track about each diamond?\"\n",
        "\n",
        "List all the characteristics we record."
      ]
    },
    {
      "cell_type": "code",
      "execution_count": 34,
      "metadata": {
        "colab": {
          "base_uri": "https://localhost:8080/"
        },
        "id": "dtl9_0fduh4r",
        "outputId": "55b2b9f8-0d4f-454f-e8ee-9a4f37c31446"
      },
      "outputs": [
        {
          "output_type": "stream",
          "name": "stdout",
          "text": [
            "The characteristics of the dataset are ['Carat Weight', 'Cut', 'Color', 'Clarity', 'Polish', 'Symmetry', 'Report', 'Price'].\n"
          ]
        }
      ],
      "source": [
        "# Your code here:\n",
        "print(f\"The characteristics of the dataset are {df.columns}.\")"
      ]
    },
    {
      "cell_type": "markdown",
      "metadata": {
        "id": "1cKK-vrTuh4r"
      },
      "source": [
        "### Question 3: \"When I look at one line in this database, what am I looking at?\"\n",
        "\n",
        "Explain in business terms:"
      ]
    },
    {
      "cell_type": "markdown",
      "metadata": {
        "id": "wy9T5ZbPuh4r"
      },
      "source": [
        "\n",
        "\n",
        "```\n",
        "# This is formatted as code\n",
        "```\n",
        "\n",
        "**Your answer:** Each row represents:\n",
        "a diamonds and its qualities such as its price, cut, carat, etc."
      ]
    },
    {
      "cell_type": "markdown",
      "metadata": {
        "id": "nLkqvO7Ouh4s"
      },
      "source": [
        "## Section 2: Strategic Business Questions (20 minutes)\n",
        "\n",
        "The CEO continues: \"Now let's get to the important questions. Our board meeting is tomorrow and I need concrete numbers.\""
      ]
    },
    {
      "cell_type": "markdown",
      "metadata": {
        "id": "BiSYlKQKuh4s"
      },
      "source": [
        "### Question 4: \"We're considering expanding our storage facilities. How many total carats do we have in inventory? I need to know if our vaults can handle the weight.\"\n",
        "\n",
        "Think about what measurement would help answer this."
      ]
    },
    {
      "cell_type": "code",
      "execution_count": 13,
      "metadata": {
        "colab": {
          "base_uri": "https://localhost:8080/"
        },
        "id": "Wi-Xk5wEuh4s",
        "outputId": "3c28098d-562c-4bb8-91c8-a94644c22a1c"
      },
      "outputs": [
        {
          "output_type": "stream",
          "name": "stdout",
          "text": [
            "The total carats we have is 8007.120000000001.\n"
          ]
        }
      ],
      "source": [
        "# Your code here:\n",
        "\n",
        "print(f\"The total carats we have is {df['Carat Weight'].sum()}.\")\n"
      ]
    },
    {
      "cell_type": "markdown",
      "metadata": {
        "id": "zg5TJ_Jquh4t"
      },
      "source": [
        "### Question 5: \"Our new marketing campaign claims we have 'the widest variety of cuts in the industry.' Can you verify this?\"\n",
        "\n",
        "The CEO wants to know about variety, not quantity."
      ]
    },
    {
      "cell_type": "code",
      "execution_count": 15,
      "metadata": {
        "colab": {
          "base_uri": "https://localhost:8080/"
        },
        "id": "kxqfyc0auh4t",
        "outputId": "4a28fe1a-c809-4514-b3da-3f3323a3a56f"
      },
      "outputs": [
        {
          "output_type": "stream",
          "name": "stdout",
          "text": [
            "We have the widest variety of cuts in the industry with 5.\n"
          ]
        }
      ],
      "source": [
        "# Your code here:\n",
        "print(f\"We have the widest variety of cuts in the industry with {len(df['Cut'].unique())}.\")"
      ]
    },
    {
      "cell_type": "markdown",
      "metadata": {
        "id": "SCESesZLuh4t"
      },
      "source": [
        "### Question 6: \"I'm meeting with our insurance company. They need to know our price exposure - what's our most and least valuable diamond?\""
      ]
    },
    {
      "cell_type": "code",
      "execution_count": 19,
      "metadata": {
        "colab": {
          "base_uri": "https://localhost:8080/"
        },
        "id": "NGpoShSpuh4t",
        "outputId": "10450efa-83d5-435a-b0f7-a73057953237"
      },
      "outputs": [
        {
          "output_type": "stream",
          "name": "stdout",
          "text": [
            "The most valuable diamond is worth $101561.\n",
            "The least valuable diamond is worth $2184.\n"
          ]
        }
      ],
      "source": [
        "# Your code here:\n",
        "\n",
        "print(f\"The most valuable diamond is worth ${max(df['Price'])}.\")\n",
        "\n",
        "print(f\"The least valuable diamond is worth ${min(df['Price'])}.\")"
      ]
    },
    {
      "cell_type": "markdown",
      "metadata": {
        "id": "A8X52Z9cuh4t"
      },
      "source": [
        "### Question 7: \"Which color grades should we focus on in our premium line? I need typical prices across our color spectrum.\"\n",
        "\n",
        "The CEO wants to understand pricing patterns."
      ]
    },
    {
      "cell_type": "code",
      "execution_count": 31,
      "metadata": {
        "colab": {
          "base_uri": "https://localhost:8080/",
          "height": 304
        },
        "id": "TUptIfPnuh4u",
        "outputId": "ad19d27c-16c2-4421-a4fc-fdcc1b4f35cc"
      },
      "outputs": [
        {
          "output_type": "stream",
          "name": "stdout",
          "text": [
            "Color frequency (from most to least common):\n"
          ]
        },
        {
          "output_type": "execute_result",
          "data": {
            "text/plain": [
              "shape: (6, 2)\n",
              "┌───────┬──────────────┐\n",
              "│ Color ┆ price        │\n",
              "│ ---   ┆ ---          │\n",
              "│ str   ┆ f64          │\n",
              "╞═══════╪══════════════╡\n",
              "│ D     ┆ 15255.783661 │\n",
              "│ F     ┆ 12712.241856 │\n",
              "│ G     ┆ 12520.050633 │\n",
              "│ E     ┆ 11539.190231 │\n",
              "│ H     ┆ 10487.347544 │\n",
              "│ I     ┆ 8989.636364  │\n",
              "└───────┴──────────────┘"
            ],
            "text/html": [
              "<div><style>\n",
              ".dataframe > thead > tr,\n",
              ".dataframe > tbody > tr {\n",
              "  text-align: right;\n",
              "  white-space: pre-wrap;\n",
              "}\n",
              "</style>\n",
              "<small>shape: (6, 2)</small><table border=\"1\" class=\"dataframe\"><thead><tr><th>Color</th><th>price</th></tr><tr><td>str</td><td>f64</td></tr></thead><tbody><tr><td>&quot;D&quot;</td><td>15255.783661</td></tr><tr><td>&quot;F&quot;</td><td>12712.241856</td></tr><tr><td>&quot;G&quot;</td><td>12520.050633</td></tr><tr><td>&quot;E&quot;</td><td>11539.190231</td></tr><tr><td>&quot;H&quot;</td><td>10487.347544</td></tr><tr><td>&quot;I&quot;</td><td>8989.636364</td></tr></tbody></table></div>"
            ]
          },
          "metadata": {},
          "execution_count": 31
        }
      ],
      "source": [
        "# Your code here:\n",
        "\n",
        "color_counts = df.group_by(pl.col(\"Color\")).agg(pl.col(\"Price\").mean().alias(\"price\")).sort(\"price\", descending=True)\n",
        "print(\"Color frequency (from most to least common):\")\n",
        "color_counts"
      ]
    },
    {
      "cell_type": "markdown",
      "metadata": {
        "id": "2bSfMfVauh4u"
      },
      "source": [
        "**Reflection:** After analyzing by color, how has your view of the data changed? What does each row in your result represent now?"
      ]
    },
    {
      "cell_type": "markdown",
      "metadata": {
        "id": "YwlQJgUUuh4u"
      },
      "source": [
        "**Your answer:** New grain = we have the average price for all different colors."
      ]
    },
    {
      "cell_type": "markdown",
      "metadata": {
        "id": "NolYF27juh4u"
      },
      "source": [
        "## Section 3: Advanced Strategic Analysis (10 minutes)\n",
        "\n",
        "The CEO leans forward: \"These next questions will shape our strategy for next year.\""
      ]
    },
    {
      "cell_type": "markdown",
      "metadata": {
        "id": "9Dd_4x3Zuh4u"
      },
      "source": [
        "### Question 8: \"We're thinking of specializing in certain clarity grades. For our investor deck, I need a complete breakdown showing: how many diamonds we have in each clarity grade, their typical price, and the total carats we're holding for each grade.\""
      ]
    },
    {
      "cell_type": "code",
      "execution_count": 35,
      "metadata": {
        "colab": {
          "base_uri": "https://localhost:8080/",
          "height": 318
        },
        "id": "Ed6tPevOuh4u",
        "outputId": "61353176-b2ae-415e-f531-c1c0690860aa"
      },
      "outputs": [
        {
          "output_type": "execute_result",
          "data": {
            "text/plain": [
              "shape: (7, 3)\n",
              "┌─────────┬──────────────┬──────────────┐\n",
              "│ Clarity ┆ avg_price    ┆ total_carats │\n",
              "│ ---     ┆ ---          ┆ ---          │\n",
              "│ str     ┆ f64          ┆ f64          │\n",
              "╞═════════╪══════════════╪══════════════╡\n",
              "│ FL      ┆ 63776.0      ┆ 7.87         │\n",
              "│ IF      ┆ 22105.844749 ┆ 316.0        │\n",
              "│ VVS1    ┆ 16845.680702 ┆ 389.43       │\n",
              "│ VVS2    ┆ 14142.177177 ┆ 876.58       │\n",
              "│ VS1     ┆ 13694.113255 ┆ 1682.74      │\n",
              "│ VS2     ┆ 11809.053333 ┆ 2170.81      │\n",
              "│ SI1     ┆ 8018.864012  ┆ 2563.69      │\n",
              "└─────────┴──────────────┴──────────────┘"
            ],
            "text/html": [
              "<div><style>\n",
              ".dataframe > thead > tr,\n",
              ".dataframe > tbody > tr {\n",
              "  text-align: right;\n",
              "  white-space: pre-wrap;\n",
              "}\n",
              "</style>\n",
              "<small>shape: (7, 3)</small><table border=\"1\" class=\"dataframe\"><thead><tr><th>Clarity</th><th>avg_price</th><th>total_carats</th></tr><tr><td>str</td><td>f64</td><td>f64</td></tr></thead><tbody><tr><td>&quot;FL&quot;</td><td>63776.0</td><td>7.87</td></tr><tr><td>&quot;IF&quot;</td><td>22105.844749</td><td>316.0</td></tr><tr><td>&quot;VVS1&quot;</td><td>16845.680702</td><td>389.43</td></tr><tr><td>&quot;VVS2&quot;</td><td>14142.177177</td><td>876.58</td></tr><tr><td>&quot;VS1&quot;</td><td>13694.113255</td><td>1682.74</td></tr><tr><td>&quot;VS2&quot;</td><td>11809.053333</td><td>2170.81</td></tr><tr><td>&quot;SI1&quot;</td><td>8018.864012</td><td>2563.69</td></tr></tbody></table></div>"
            ]
          },
          "metadata": {},
          "execution_count": 35
        }
      ],
      "source": [
        "# Your code here:\n",
        "result = df.group_by(\"Clarity\").agg(\n",
        "    pl.col(\"Price\").mean().alias(\"avg_price\"),\n",
        "    pl.col(\"Carat Weight\").sum().alias(\"total_carats\")\n",
        ").sort(\"avg_price\", descending=True)\n",
        "\n",
        "result"
      ]
    },
    {
      "cell_type": "markdown",
      "metadata": {
        "id": "JUlSXpaPuh4v"
      },
      "source": [
        "### Question 9: \"My luxury competitor claims they have the best prices for every cut-color combination. Show me our pricing structure across these combinations - I want to see where we're competitive.\""
      ]
    },
    {
      "cell_type": "code",
      "execution_count": 37,
      "metadata": {
        "colab": {
          "base_uri": "https://localhost:8080/",
          "height": 443
        },
        "id": "oZkF4AJIuh4v",
        "outputId": "50b245cc-a6f9-4d3f-f3b6-0c261c7f227a"
      },
      "outputs": [
        {
          "output_type": "execute_result",
          "data": {
            "text/plain": [
              "shape: (30, 5)\n",
              "┌───────────┬───────┬──────────────┬───────────┬───────────┐\n",
              "│ Cut       ┆ Color ┆ avg_price    ┆ max_price ┆ min_price │\n",
              "│ ---       ┆ ---   ┆ ---          ┆ ---       ┆ ---       │\n",
              "│ str       ┆ str   ┆ f64          ┆ i64       ┆ i64       │\n",
              "╞═══════════╪═══════╪══════════════╪═══════════╪═══════════╡\n",
              "│ Ideal     ┆ D     ┆ 18461.953571 ┆ 101561    ┆ 3007      │\n",
              "│ Fair      ┆ E     ┆ 5370.625     ┆ 12829     ┆ 3743      │\n",
              "│ Good      ┆ D     ┆ 10058.716216 ┆ 52570     ┆ 2995      │\n",
              "│ Good      ┆ H     ┆ 9535.132812  ┆ 30387     ┆ 2534      │\n",
              "│ Ideal     ┆ I     ┆ 9459.588378  ┆ 31254     ┆ 2383      │\n",
              "│ …         ┆ …     ┆ …            ┆ …         ┆ …         │\n",
              "│ Fair      ┆ I     ┆ 4573.1875    ┆ 8999      ┆ 3166      │\n",
              "│ Good      ┆ I     ┆ 8174.113043  ┆ 27277     ┆ 2184      │\n",
              "│ Good      ┆ E     ┆ 8969.545455  ┆ 37848     ┆ 2548      │\n",
              "│ Very Good ┆ G     ┆ 12354.013841 ┆ 44441     ┆ 2579      │\n",
              "│ Ideal     ┆ E     ┆ 12647.107914 ┆ 65488     ┆ 2946      │\n",
              "└───────────┴───────┴──────────────┴───────────┴───────────┘"
            ],
            "text/html": [
              "<div><style>\n",
              ".dataframe > thead > tr,\n",
              ".dataframe > tbody > tr {\n",
              "  text-align: right;\n",
              "  white-space: pre-wrap;\n",
              "}\n",
              "</style>\n",
              "<small>shape: (30, 5)</small><table border=\"1\" class=\"dataframe\"><thead><tr><th>Cut</th><th>Color</th><th>avg_price</th><th>max_price</th><th>min_price</th></tr><tr><td>str</td><td>str</td><td>f64</td><td>i64</td><td>i64</td></tr></thead><tbody><tr><td>&quot;Ideal&quot;</td><td>&quot;D&quot;</td><td>18461.953571</td><td>101561</td><td>3007</td></tr><tr><td>&quot;Fair&quot;</td><td>&quot;E&quot;</td><td>5370.625</td><td>12829</td><td>3743</td></tr><tr><td>&quot;Good&quot;</td><td>&quot;D&quot;</td><td>10058.716216</td><td>52570</td><td>2995</td></tr><tr><td>&quot;Good&quot;</td><td>&quot;H&quot;</td><td>9535.132812</td><td>30387</td><td>2534</td></tr><tr><td>&quot;Ideal&quot;</td><td>&quot;I&quot;</td><td>9459.588378</td><td>31254</td><td>2383</td></tr><tr><td>&hellip;</td><td>&hellip;</td><td>&hellip;</td><td>&hellip;</td><td>&hellip;</td></tr><tr><td>&quot;Fair&quot;</td><td>&quot;I&quot;</td><td>4573.1875</td><td>8999</td><td>3166</td></tr><tr><td>&quot;Good&quot;</td><td>&quot;I&quot;</td><td>8174.113043</td><td>27277</td><td>2184</td></tr><tr><td>&quot;Good&quot;</td><td>&quot;E&quot;</td><td>8969.545455</td><td>37848</td><td>2548</td></tr><tr><td>&quot;Very Good&quot;</td><td>&quot;G&quot;</td><td>12354.013841</td><td>44441</td><td>2579</td></tr><tr><td>&quot;Ideal&quot;</td><td>&quot;E&quot;</td><td>12647.107914</td><td>65488</td><td>2946</td></tr></tbody></table></div>"
            ]
          },
          "metadata": {},
          "execution_count": 37
        }
      ],
      "source": [
        "# Your code here:\n",
        "\n",
        "result = df.group_by([\"Cut\",\"Color\"]).agg(\n",
        "    pl.col(\"Price\").mean().alias(\"avg_price\"),\n",
        "    pl.col(\"Price\").max().alias(\"max_price\"),\n",
        "    pl.col(\"Price\").min().alias(\"min_price\")\n",
        ")\n",
        "\n",
        "result"
      ]
    },
    {
      "cell_type": "markdown",
      "metadata": {
        "id": "cVqHh9n1uh4v"
      },
      "source": [
        "**Reflection:** How specific is your analysis now? What level of detail does each row represent?"
      ]
    },
    {
      "cell_type": "markdown",
      "metadata": {
        "id": "NMCkwZnbuh4v"
      },
      "source": [
        "**Your answer:** New grain = Every row represents different combinations of cut and color and their average, max and min prices."
      ]
    },
    {
      "cell_type": "markdown",
      "metadata": {
        "id": "C95E1zRTuh4w"
      },
      "source": [
        "### Question 10: URGENT - \"Our biggest client is interested in purchasing entire inventory segments. They asked: 'Which color-cut combinations represent your highest total inventory value?' Show me the top 5 most valuable inventory segments by total worth, and include how many diamonds are in each segment.\"\n",
        "\n",
        "This is critical for tomorrow's negotiation."
      ]
    },
    {
      "cell_type": "code",
      "execution_count": 40,
      "metadata": {
        "colab": {
          "base_uri": "https://localhost:8080/",
          "height": 255
        },
        "id": "RuSC6884uh4w",
        "outputId": "e2398a55-c527-4bd1-ea63-fb3ec0538ad0"
      },
      "outputs": [
        {
          "output_type": "execute_result",
          "data": {
            "text/plain": [
              "shape: (5, 4)\n",
              "┌─────────────────┬───────┬───────────┬───────┐\n",
              "│ Cut             ┆ Color ┆ max_price ┆ count │\n",
              "│ ---             ┆ ---   ┆ ---       ┆ ---   │\n",
              "│ str             ┆ str   ┆ i64       ┆ u32   │\n",
              "╞═════════════════╪═══════╪═══════════╪═══════╡\n",
              "│ Ideal           ┆ D     ┆ 101561    ┆ 280   │\n",
              "│ Very Good       ┆ D     ┆ 93813     ┆ 265   │\n",
              "│ Signature-Ideal ┆ D     ┆ 81399     ┆ 30    │\n",
              "│ Very Good       ┆ E     ┆ 67240     ┆ 323   │\n",
              "│ Ideal           ┆ E     ┆ 65488     ┆ 278   │\n",
              "└─────────────────┴───────┴───────────┴───────┘"
            ],
            "text/html": [
              "<div><style>\n",
              ".dataframe > thead > tr,\n",
              ".dataframe > tbody > tr {\n",
              "  text-align: right;\n",
              "  white-space: pre-wrap;\n",
              "}\n",
              "</style>\n",
              "<small>shape: (5, 4)</small><table border=\"1\" class=\"dataframe\"><thead><tr><th>Cut</th><th>Color</th><th>max_price</th><th>count</th></tr><tr><td>str</td><td>str</td><td>i64</td><td>u32</td></tr></thead><tbody><tr><td>&quot;Ideal&quot;</td><td>&quot;D&quot;</td><td>101561</td><td>280</td></tr><tr><td>&quot;Very Good&quot;</td><td>&quot;D&quot;</td><td>93813</td><td>265</td></tr><tr><td>&quot;Signature-Ideal&quot;</td><td>&quot;D&quot;</td><td>81399</td><td>30</td></tr><tr><td>&quot;Very Good&quot;</td><td>&quot;E&quot;</td><td>67240</td><td>323</td></tr><tr><td>&quot;Ideal&quot;</td><td>&quot;E&quot;</td><td>65488</td><td>278</td></tr></tbody></table></div>"
            ]
          },
          "metadata": {},
          "execution_count": 40
        }
      ],
      "source": [
        "# Your code here:\n",
        "\n",
        "result = df.group_by([\"Cut\",\"Color\"]).agg(\n",
        "    pl.col(\"Price\").max().alias(\"max_price\"),\n",
        "    pl.len().alias(\"count\")\n",
        ").sort(\"max_price\", descending=True)\n",
        "\n",
        "result.head()"
      ]
    },
    {
      "cell_type": "markdown",
      "metadata": {
        "id": "yReBl4RNuh4x"
      },
      "source": [
        "## Debrief\n",
        "\n",
        "Congratulations! You've just completed your first day as the diamond company's data analyst.\n",
        "\n",
        "Remember:\n",
        "- CEOs speak in business language, not technical terms\n",
        "- Always understand what each row represents before analyzing\n",
        "- Business questions contain clues about which operations to use"
      ]
    }
  ],
  "metadata": {
    "kernelspec": {
      "display_name": "Python 3",
      "language": "python",
      "name": "python3"
    },
    "language_info": {
      "codemirror_mode": {
        "name": "ipython",
        "version": 3
      },
      "file_extension": ".py",
      "mimetype": "text/x-python",
      "name": "python",
      "nbconvert_exporter": "python",
      "pygments_lexer": "ipython3",
      "version": "3.12.0"
    },
    "colab": {
      "provenance": []
    }
  },
  "nbformat": 4,
  "nbformat_minor": 0
}